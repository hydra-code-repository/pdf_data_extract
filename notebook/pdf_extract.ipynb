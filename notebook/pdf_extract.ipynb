{
 "cells": [
  {
   "cell_type": "code",
   "execution_count": 24,
   "id": "51ddd90e",
   "metadata": {},
   "outputs": [],
   "source": [
    "import pdfplumber\n",
    "import pandas as pd"
   ]
  },
  {
   "cell_type": "code",
   "execution_count": 121,
   "id": "8c3f0fe8",
   "metadata": {},
   "outputs": [],
   "source": [
    "# Read the pdf document\n",
    "pdf = pdfplumber.open(\"pdf.pdf\")"
   ]
  },
  {
   "cell_type": "code",
   "execution_count": 99,
   "id": "483eea40",
   "metadata": {},
   "outputs": [
    {
     "data": {
      "text/plain": [
       "pdfplumber.pdf.PDF"
      ]
     },
     "execution_count": 99,
     "metadata": {},
     "output_type": "execute_result"
    }
   ],
   "source": [
    "# Print the data type of the pdf\n",
    "type(pdf)"
   ]
  },
  {
   "cell_type": "code",
   "execution_count": 100,
   "id": "39797c59",
   "metadata": {},
   "outputs": [],
   "source": [
    "# Get the page number\n",
    "page = pdf.pages[0]"
   ]
  },
  {
   "cell_type": "code",
   "execution_count": 101,
   "id": "ec4d2af6",
   "metadata": {},
   "outputs": [
    {
     "data": {
      "text/plain": [
       "list"
      ]
     },
     "execution_count": 101,
     "metadata": {},
     "output_type": "execute_result"
    }
   ],
   "source": [
    "# Show the data type of the method pages to find out an method iterable to print all pages\n",
    "# The data type is a list with all pages, which is possible to interate over this method to extract the table\n",
    "type(pdf.pages)"
   ]
  },
  {
   "cell_type": "code",
   "execution_count": 102,
   "id": "a3800240",
   "metadata": {},
   "outputs": [],
   "source": [
    "# Extract the table (s) \n",
    "table = page.extract_table()"
   ]
  },
  {
   "cell_type": "code",
   "execution_count": 103,
   "id": "21207076",
   "metadata": {},
   "outputs": [
    {
     "data": {
      "text/plain": [
       "list"
      ]
     },
     "execution_count": 103,
     "metadata": {},
     "output_type": "execute_result"
    }
   ],
   "source": [
    "# Check the data type of the data extracted\n",
    "type(table)"
   ]
  },
  {
   "cell_type": "code",
   "execution_count": null,
   "id": "bfd08192",
   "metadata": {},
   "outputs": [
    {
     "data": {
      "text/plain": [
       "[['CALIBRATION',\n",
       "  'TYPE',\n",
       "  'OLD PART NUMBER(S)',\n",
       "  'NEW PART NUMBER(s)',\n",
       "  'TSB(S)',\n",
       "  'RECALL(S)'],\n",
       " ['2007 2008 2009 VB CR4\\nD1 - RAM 3500 PICKUP\\nVA - SPRINTER\\nVB - SPRINTER',\n",
       "  'ECM',\n",
       "  '0014489240\\n0024468640\\n0064468240\\n0064488540\\n0084488640\\n0104483840',\n",
       "  '0104486240',\n",
       "  '',\n",
       "  'RC-H44-09'],\n",
       " ['2011 P3 2.0L CVT BUX ROW\\nP3 - CALIBER (CKD)',\n",
       "  'PCM',\n",
       "  '05150542AE',\n",
       "  '04494025AB',\n",
       "  '',\n",
       "  ''],\n",
       " ['98 LH EATXIIIA WITHOUT AUTOSTICK\\nLH - INTREPID/CONCORDE/300M',\n",
       "  'TCM',\n",
       "  '04606081AA\\n04606081AB\\n04606081AC\\n04606081AD\\n04606081AE\\n04606081AF\\n04606081AG\\n04606081AH\\n04606081AI\\n04606081AJ',\n",
       "  '04606081AK',\n",
       "  '21-03-98\\n21-08-98',\n",
       "  ''],\n",
       " ['98 LH EATXIIIA WITH AUTOSTICK\\nLH - INTREPID/CONCORDE/300M',\n",
       "  'TCM',\n",
       "  '04606082AA\\n04606082AB\\n04606082AC\\n04606082AD\\n04606082AE\\n04606082AF\\n04606082AG\\n04606082AH\\n04606082AI\\n04606082AJ',\n",
       "  '04606082AK',\n",
       "  '21-03-98\\n21-08-98',\n",
       "  ''],\n",
       " ['95 2.5 JA EXPORT\\nJA - BREEZE/STRATUS/CIRRUS',\n",
       "  'PCM',\n",
       "  '04606068\\n04606522\\n04606610\\n04606727',\n",
       "  '04606123',\n",
       "  '18-16-95',\n",
       "  ''],\n",
       " ['95 2.0 JA FEDERAL MANUAL 126 MPH\\nJA - BREEZE/STRATUS/CIRRUS',\n",
       "  'PCM',\n",
       "  '04606098\\n04606099\\n04606534\\n04606602\\n04606721',\n",
       "  '04606174',\n",
       "  '18-005-01\\n18-12-95',\n",
       "  ''],\n",
       " ['95 2.0 JA CAL/FED MANUAL 108 MPH\\nJA - BREEZE/STRATUS/CIRRUS',\n",
       "  'PCM',\n",
       "  '04606088\\n04606103\\n04606526\\n04606606\\n04606711',\n",
       "  '04606175',\n",
       "  '18-12-95',\n",
       "  'RC-678-96'],\n",
       " ['95 2.0 JA CAL/FED MANUAL 126 MPH\\nJA - BREEZE/STRATUS/CIRRUS',\n",
       "  'PCM',\n",
       "  '04606094\\n04606107\\n04606536\\n04606603\\n04606715',\n",
       "  '04606176',\n",
       "  '18-005-01\\n18-12-95',\n",
       "  'RC-678-96'],\n",
       " ['96 2.4 J2 AUTO TRANS MEXICO\\nJ2 - CIRRUS/STRATUS (MEXICO)',\n",
       "  'PCM',\n",
       "  '04606149\\n04606256',\n",
       "  '04606178',\n",
       "  '',\n",
       "  ''],\n",
       " ['95 2.4 JA AUTO OBDII 50 STATE NORMAL TIRES\\nJA - BREEZE/STRATUS/CIRRUS',\n",
       "  'PCM',\n",
       "  '04605265\\n04606072\\n04606125\\n04606252',\n",
       "  '04606185',\n",
       "  '18-25-95',\n",
       "  ''],\n",
       " ['95 2.4 JA AUTO OBDII 50 STATE HIGH SPEED\\nJA - BREEZE/STRATUS/CIRRUS',\n",
       "  'PCM',\n",
       "  '04606087\\n04606146',\n",
       "  '04606186',\n",
       "  '18-25-95',\n",
       "  ''],\n",
       " ['98 JA 2.0L AUTO FED\\nJA - BREEZE/STRATUS/CIRRUS',\n",
       "  'PCM',\n",
       "  '04606200AA\\n04606200AB\\n04606200AC\\n04606200AD\\n04606200AE\\n04606200AF\\n04606200AG\\n04606200AH\\n04606200AI\\n04606200AJ\\n05066123AB',\n",
       "  '04606200AK',\n",
       "  '18-30-98',\n",
       "  ''],\n",
       " ['95 2.0 JA FEDERAL MANUAL 108 MPH\\nJA - BREEZE/STRATUS/CIRRUS',\n",
       "  'PCM',\n",
       "  '04606096\\n04606097\\n04606524\\n04606601\\n04606719',\n",
       "  '04606273',\n",
       "  '18-005-01\\n18-12-95',\n",
       "  '']]"
      ]
     },
     "execution_count": 111,
     "metadata": {},
     "output_type": "execute_result"
    }
   ],
   "source": [
    "# Print the table to see how the data was obtained\n",
    "table"
   ]
  },
  {
   "cell_type": "code",
   "execution_count": 104,
   "id": "1a7f2fa4",
   "metadata": {},
   "outputs": [
    {
     "name": "stdout",
     "output_type": "stream",
     "text": [
      "['CALIBRATION', 'TYPE', 'OLD PART NUMBER(S)', 'NEW PART NUMBER(s)', 'TSB(S)', 'RECALL(S)']\n"
     ]
    }
   ],
   "source": [
    "# The data extracted is saved into a list of lists\n",
    "# Print the first item of the list\n",
    "# Position 0 at the table are the column names\n",
    "print(table[0])"
   ]
  },
  {
   "cell_type": "code",
   "execution_count": null,
   "id": "6f77a9cd",
   "metadata": {},
   "outputs": [],
   "source": [
    "# List to store all data from all pages, otherwise when iterating over each line (WITHOUT THE LIST), \n",
    "# the previous page is removed and the new page is stored in the variable 'table_extracted', \n",
    "# that's why only the last 2 lines appears in the final resultWITHOUT LIST  \n",
    "all_tables = []\n",
    "\n",
    "# Loop to iterate over the pdf.pages list\n",
    "for page in pdf.pages:\n",
    "    # Extract the data from each page\n",
    "    table_extracted = page.extract_table()\n",
    "    all_tables.extend(table_extracted)\n",
    "    print(table_extracted)"
   ]
  },
  {
   "cell_type": "code",
   "execution_count": null,
   "id": "7b9d001e",
   "metadata": {},
   "outputs": [],
   "source": [
    "# Convert the list to dataframe\n",
    "df = pd.DataFrame(all_tables[1:], columns=all_tables[0])"
   ]
  },
  {
   "cell_type": "code",
   "execution_count": 162,
   "id": "c001d4f1",
   "metadata": {},
   "outputs": [],
   "source": [
    "# Check what rows the str 'CALIBRATION' is located\n",
    "ser_calibration = df['CALIBRATION'].str.contains('CALIBRATION')"
   ]
  },
  {
   "cell_type": "code",
   "execution_count": null,
   "id": "306fd1d4",
   "metadata": {},
   "outputs": [],
   "source": [
    "# Get the indexes with the rows containing the str 'CALIBRATION'\n",
    "index_true = ser_calibration[ser_calibration == True].index"
   ]
  },
  {
   "cell_type": "code",
   "execution_count": null,
   "id": "e235b888",
   "metadata": {},
   "outputs": [],
   "source": [
    "# Drop all indexes with the header 'CALIBRATION', 'TYPE', 'OLD PART NUMBER(S)', 'NEW PART NUMBER(s)', 'TSB(S)', 'RECALL(S)\n",
    "df_calibration_deleted = df.drop(index=index_true)"
   ]
  },
  {
   "cell_type": "code",
   "execution_count": 168,
   "id": "c693077d",
   "metadata": {},
   "outputs": [
    {
     "data": {
      "text/plain": [
       "Index(['CALIBRATION', 'TYPE', 'OLD PART NUMBER(S)', 'NEW PART NUMBER(s)',\n",
       "       'TSB(S)', 'RECALL(S)'],\n",
       "      dtype='object')"
      ]
     },
     "execution_count": 168,
     "metadata": {},
     "output_type": "execute_result"
    }
   ],
   "source": [
    "# Check the columns available\n",
    "df_calibration_deleted.columns"
   ]
  },
  {
   "cell_type": "code",
   "execution_count": 196,
   "id": "30862d49",
   "metadata": {},
   "outputs": [],
   "source": [
    "# Drop the 2 last columns\n",
    "df_dropped_columns = df_calibration_deleted.drop(columns=['TSB(S)', 'RECALL(S)'])"
   ]
  },
  {
   "cell_type": "code",
   "execution_count": 197,
   "id": "402b7baf",
   "metadata": {},
   "outputs": [
    {
     "data": {
      "text/html": [
       "<div>\n",
       "<style scoped>\n",
       "    .dataframe tbody tr th:only-of-type {\n",
       "        vertical-align: middle;\n",
       "    }\n",
       "\n",
       "    .dataframe tbody tr th {\n",
       "        vertical-align: top;\n",
       "    }\n",
       "\n",
       "    .dataframe thead th {\n",
       "        text-align: right;\n",
       "    }\n",
       "</style>\n",
       "<table border=\"1\" class=\"dataframe\">\n",
       "  <thead>\n",
       "    <tr style=\"text-align: right;\">\n",
       "      <th></th>\n",
       "      <th>CALIBRATION</th>\n",
       "      <th>TYPE</th>\n",
       "      <th>OLD PART NUMBER(S)</th>\n",
       "      <th>NEW PART NUMBER(s)</th>\n",
       "    </tr>\n",
       "  </thead>\n",
       "  <tbody>\n",
       "    <tr>\n",
       "      <th>0</th>\n",
       "      <td>2007 2008 2009 VB CR4\\nD1 - RAM 3500 PICKUP\\nV...</td>\n",
       "      <td>ECM</td>\n",
       "      <td>0014489240\\n0024468640\\n0064468240\\n0064488540...</td>\n",
       "      <td>0104486240</td>\n",
       "    </tr>\n",
       "    <tr>\n",
       "      <th>1</th>\n",
       "      <td>2011 P3 2.0L CVT BUX ROW\\nP3 - CALIBER (CKD)</td>\n",
       "      <td>PCM</td>\n",
       "      <td>05150542AE</td>\n",
       "      <td>04494025AB</td>\n",
       "    </tr>\n",
       "    <tr>\n",
       "      <th>2</th>\n",
       "      <td>98 LH EATXIIIA WITHOUT AUTOSTICK\\nLH - INTREPI...</td>\n",
       "      <td>TCM</td>\n",
       "      <td>04606081AA\\n04606081AB\\n04606081AC\\n04606081AD...</td>\n",
       "      <td>04606081AK</td>\n",
       "    </tr>\n",
       "    <tr>\n",
       "      <th>3</th>\n",
       "      <td>98 LH EATXIIIA WITH AUTOSTICK\\nLH - INTREPID/C...</td>\n",
       "      <td>TCM</td>\n",
       "      <td>04606082AA\\n04606082AB\\n04606082AC\\n04606082AD...</td>\n",
       "      <td>04606082AK</td>\n",
       "    </tr>\n",
       "    <tr>\n",
       "      <th>4</th>\n",
       "      <td>95 2.5 JA EXPORT\\nJA - BREEZE/STRATUS/CIRRUS</td>\n",
       "      <td>PCM</td>\n",
       "      <td>04606068\\n04606522\\n04606610\\n04606727</td>\n",
       "      <td>04606123</td>\n",
       "    </tr>\n",
       "  </tbody>\n",
       "</table>\n",
       "</div>"
      ],
      "text/plain": [
       "                                         CALIBRATION TYPE  \\\n",
       "0  2007 2008 2009 VB CR4\\nD1 - RAM 3500 PICKUP\\nV...  ECM   \n",
       "1       2011 P3 2.0L CVT BUX ROW\\nP3 - CALIBER (CKD)  PCM   \n",
       "2  98 LH EATXIIIA WITHOUT AUTOSTICK\\nLH - INTREPI...  TCM   \n",
       "3  98 LH EATXIIIA WITH AUTOSTICK\\nLH - INTREPID/C...  TCM   \n",
       "4       95 2.5 JA EXPORT\\nJA - BREEZE/STRATUS/CIRRUS  PCM   \n",
       "\n",
       "                                  OLD PART NUMBER(S) NEW PART NUMBER(s)  \n",
       "0  0014489240\\n0024468640\\n0064468240\\n0064488540...         0104486240  \n",
       "1                                         05150542AE         04494025AB  \n",
       "2  04606081AA\\n04606081AB\\n04606081AC\\n04606081AD...         04606081AK  \n",
       "3  04606082AA\\n04606082AB\\n04606082AC\\n04606082AD...         04606082AK  \n",
       "4             04606068\\n04606522\\n04606610\\n04606727           04606123  "
      ]
     },
     "execution_count": 197,
     "metadata": {},
     "output_type": "execute_result"
    }
   ],
   "source": [
    "# Print the head\n",
    "df_dropped_columns.head(5)"
   ]
  },
  {
   "cell_type": "code",
   "execution_count": 198,
   "id": "5c19bbb5",
   "metadata": {},
   "outputs": [],
   "source": [
    "# CALIBRATION column: replace '\\n' characters with ' ' (space)\n",
    "df_dropped_columns['CALIBRATION'] = df_dropped_columns['CALIBRATION'].str.replace('\\n', ' ', regex=False)"
   ]
  },
  {
   "cell_type": "code",
   "execution_count": 199,
   "id": "acef0a24",
   "metadata": {},
   "outputs": [],
   "source": [
    "# OLD PART NUMBER(S) column: replace '\\n' characters with ',' (comma)\n",
    "df_dropped_columns['OLD PART NUMBER(S)'] = df_dropped_columns['OLD PART NUMBER(S)'].str.replace('\\n', ', ', regex=False)"
   ]
  },
  {
   "cell_type": "code",
   "execution_count": null,
   "id": "41fb71ca",
   "metadata": {},
   "outputs": [],
   "source": [
    "# Print the head to confirm the changes\n",
    "df_dropped_columns.head(5)"
   ]
  },
  {
   "cell_type": "code",
   "execution_count": 202,
   "id": "ed80aae2",
   "metadata": {},
   "outputs": [
    {
     "name": "stderr",
     "output_type": "stream",
     "text": [
      "<>:2: SyntaxWarning: invalid escape sequence '\\L'\n",
      "<>:2: SyntaxWarning: invalid escape sequence '\\L'\n",
      "C:\\Users\\Weverson Barbieri\\AppData\\Local\\Temp\\ipykernel_21516\\2007887434.py:2: SyntaxWarning: invalid escape sequence '\\L'\n",
      "  df_dropped_columns.to_excel('C:\\Language_Projects\\Language_Projects\\Python\\Flagship_1\\pdf_data_extract\\chrysler_pdf_to_excel.xlsx', index=False)\n"
     ]
    }
   ],
   "source": [
    "# Convert the data to xlsx format\n",
    "df_dropped_columns.to_excel('C:\\Language_Projects\\Language_Projects\\Python\\Flagship_1\\pdf_data_extract\\chrysler_pdf_to_excel.xlsx', index=False)"
   ]
  }
 ],
 "metadata": {
  "kernelspec": {
   "display_name": "venv",
   "language": "python",
   "name": "python3"
  },
  "language_info": {
   "codemirror_mode": {
    "name": "ipython",
    "version": 3
   },
   "file_extension": ".py",
   "mimetype": "text/x-python",
   "name": "python",
   "nbconvert_exporter": "python",
   "pygments_lexer": "ipython3",
   "version": "3.12.2"
  }
 },
 "nbformat": 4,
 "nbformat_minor": 5
}
