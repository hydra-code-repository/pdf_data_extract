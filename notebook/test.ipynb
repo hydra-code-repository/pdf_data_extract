{
 "cells": [
  {
   "cell_type": "code",
   "execution_count": 1,
   "id": "48efda38",
   "metadata": {},
   "outputs": [],
   "source": [
    "import pandas as pd\n",
    "import re"
   ]
  },
  {
   "cell_type": "code",
   "execution_count": 11,
   "id": "a84742f2",
   "metadata": {},
   "outputs": [],
   "source": [
    "# Example of data to extract\n",
    "data = ['98 LH EATXIIIA WITHOUT AUTOSTICK\\nLH', '95 BC EATXIIIA WITHOUT AUTOSTICK', '2003 EATXIIIA WITHOUT LA AUTOSTICK']"
   ]
  },
  {
   "cell_type": "code",
   "execution_count": 12,
   "id": "a36ed5fc",
   "metadata": {},
   "outputs": [],
   "source": [
    "# Convert to df \n",
    "df = pd.DataFrame(data)"
   ]
  },
  {
   "cell_type": "code",
   "execution_count": 13,
   "id": "8e827e74",
   "metadata": {},
   "outputs": [
    {
     "data": {
      "text/html": [
       "<div>\n",
       "<style scoped>\n",
       "    .dataframe tbody tr th:only-of-type {\n",
       "        vertical-align: middle;\n",
       "    }\n",
       "\n",
       "    .dataframe tbody tr th {\n",
       "        vertical-align: top;\n",
       "    }\n",
       "\n",
       "    .dataframe thead th {\n",
       "        text-align: right;\n",
       "    }\n",
       "</style>\n",
       "<table border=\"1\" class=\"dataframe\">\n",
       "  <thead>\n",
       "    <tr style=\"text-align: right;\">\n",
       "      <th></th>\n",
       "      <th>0</th>\n",
       "    </tr>\n",
       "  </thead>\n",
       "  <tbody>\n",
       "    <tr>\n",
       "      <th>0</th>\n",
       "      <td>98 LH EATXIIIA WITHOUT AUTOSTICK\\nLH</td>\n",
       "    </tr>\n",
       "    <tr>\n",
       "      <th>1</th>\n",
       "      <td>95 BC EATXIIIA WITHOUT AUTOSTICK</td>\n",
       "    </tr>\n",
       "    <tr>\n",
       "      <th>2</th>\n",
       "      <td>2003 EATXIIIA WITHOUT LA AUTOSTICK</td>\n",
       "    </tr>\n",
       "  </tbody>\n",
       "</table>\n",
       "</div>"
      ],
      "text/plain": [
       "                                      0\n",
       "0  98 LH EATXIIIA WITHOUT AUTOSTICK\\nLH\n",
       "1      95 BC EATXIIIA WITHOUT AUTOSTICK\n",
       "2    2003 EATXIIIA WITHOUT LA AUTOSTICK"
      ]
     },
     "execution_count": 13,
     "metadata": {},
     "output_type": "execute_result"
    }
   ],
   "source": [
    "# Print the df\n",
    "df"
   ]
  },
  {
   "cell_type": "code",
   "execution_count": 14,
   "id": "d5dfad23",
   "metadata": {},
   "outputs": [],
   "source": [
    "# Create a pattern to identify the body code\n",
    "pattern = r'\\s+([A-Z][A-Z0-9])\\s+'"
   ]
  },
  {
   "cell_type": "code",
   "execution_count": 16,
   "id": "c19efae3",
   "metadata": {},
   "outputs": [],
   "source": [
    "# List to store the positions and the body codes\n",
    "positions = []\n",
    "\n",
    "# Iterate under column 0 to get the text\n",
    "for idx, text in df[0].items():\n",
    "    # Iterate under the whole text and use the regex pattern to capture the body code \n",
    "    for match in re.finditer(pattern, text):\n",
    "        # Append body code and the start position of the body code\n",
    "        positions.append({\n",
    "            'index': idx,\n",
    "            'BC': match.group(1),\n",
    "            'start_pos': match.start(1),\n",
    "        })"
   ]
  },
  {
   "cell_type": "code",
   "execution_count": 17,
   "id": "d280e7d8",
   "metadata": {},
   "outputs": [
    {
     "data": {
      "text/plain": [
       "[{'index': 0, 'BC': 'LH', 'start_pos': 3},\n",
       " {'index': 1, 'BC': 'BC', 'start_pos': 3},\n",
       " {'index': 2, 'BC': 'LA', 'start_pos': 22}]"
      ]
     },
     "execution_count": 17,
     "metadata": {},
     "output_type": "execute_result"
    }
   ],
   "source": [
    "# Print the list\n",
    "positions"
   ]
  },
  {
   "cell_type": "code",
   "execution_count": 18,
   "id": "780902f7",
   "metadata": {},
   "outputs": [
    {
     "data": {
      "text/plain": [
       "{'index': 1, 'BC': 'BC', 'start_pos': 3}"
      ]
     },
     "execution_count": 18,
     "metadata": {},
     "output_type": "execute_result"
    }
   ],
   "source": [
    "positions[1]"
   ]
  },
  {
   "cell_type": "code",
   "execution_count": 19,
   "id": "96701331",
   "metadata": {},
   "outputs": [],
   "source": [
    "# Convert the list to df\n",
    "df_positions = pd.DataFrame(positions)"
   ]
  },
  {
   "cell_type": "code",
   "execution_count": 20,
   "id": "b11e1b56",
   "metadata": {},
   "outputs": [
    {
     "data": {
      "text/html": [
       "<div>\n",
       "<style scoped>\n",
       "    .dataframe tbody tr th:only-of-type {\n",
       "        vertical-align: middle;\n",
       "    }\n",
       "\n",
       "    .dataframe tbody tr th {\n",
       "        vertical-align: top;\n",
       "    }\n",
       "\n",
       "    .dataframe thead th {\n",
       "        text-align: right;\n",
       "    }\n",
       "</style>\n",
       "<table border=\"1\" class=\"dataframe\">\n",
       "  <thead>\n",
       "    <tr style=\"text-align: right;\">\n",
       "      <th></th>\n",
       "      <th>index</th>\n",
       "      <th>BC</th>\n",
       "      <th>start_pos</th>\n",
       "    </tr>\n",
       "  </thead>\n",
       "  <tbody>\n",
       "    <tr>\n",
       "      <th>0</th>\n",
       "      <td>0</td>\n",
       "      <td>LH</td>\n",
       "      <td>3</td>\n",
       "    </tr>\n",
       "    <tr>\n",
       "      <th>1</th>\n",
       "      <td>1</td>\n",
       "      <td>BC</td>\n",
       "      <td>3</td>\n",
       "    </tr>\n",
       "    <tr>\n",
       "      <th>2</th>\n",
       "      <td>2</td>\n",
       "      <td>LA</td>\n",
       "      <td>22</td>\n",
       "    </tr>\n",
       "  </tbody>\n",
       "</table>\n",
       "</div>"
      ],
      "text/plain": [
       "   index  BC  start_pos\n",
       "0      0  LH          3\n",
       "1      1  BC          3\n",
       "2      2  LA         22"
      ]
     },
     "execution_count": 20,
     "metadata": {},
     "output_type": "execute_result"
    }
   ],
   "source": [
    "# Print the df\n",
    "df_positions"
   ]
  },
  {
   "cell_type": "code",
   "execution_count": 21,
   "id": "adf4ce51",
   "metadata": {},
   "outputs": [],
   "source": [
    "# Concate the df with the body code and position with the original df\n",
    "# axis=1 is used to indicate the df will be concatenated horizontally, that is, with the columns side by side \n",
    "df_concatenated = pd.concat([df, df_positions], axis=1)"
   ]
  },
  {
   "cell_type": "code",
   "execution_count": 22,
   "id": "871d3957",
   "metadata": {},
   "outputs": [
    {
     "data": {
      "text/html": [
       "<div>\n",
       "<style scoped>\n",
       "    .dataframe tbody tr th:only-of-type {\n",
       "        vertical-align: middle;\n",
       "    }\n",
       "\n",
       "    .dataframe tbody tr th {\n",
       "        vertical-align: top;\n",
       "    }\n",
       "\n",
       "    .dataframe thead th {\n",
       "        text-align: right;\n",
       "    }\n",
       "</style>\n",
       "<table border=\"1\" class=\"dataframe\">\n",
       "  <thead>\n",
       "    <tr style=\"text-align: right;\">\n",
       "      <th></th>\n",
       "      <th>0</th>\n",
       "      <th>index</th>\n",
       "      <th>BC</th>\n",
       "      <th>start_pos</th>\n",
       "    </tr>\n",
       "  </thead>\n",
       "  <tbody>\n",
       "    <tr>\n",
       "      <th>0</th>\n",
       "      <td>98 LH EATXIIIA WITHOUT AUTOSTICK\\nLH</td>\n",
       "      <td>0</td>\n",
       "      <td>LH</td>\n",
       "      <td>3</td>\n",
       "    </tr>\n",
       "    <tr>\n",
       "      <th>1</th>\n",
       "      <td>95 BC EATXIIIA WITHOUT AUTOSTICK</td>\n",
       "      <td>1</td>\n",
       "      <td>BC</td>\n",
       "      <td>3</td>\n",
       "    </tr>\n",
       "    <tr>\n",
       "      <th>2</th>\n",
       "      <td>2003 EATXIIIA WITHOUT LA AUTOSTICK</td>\n",
       "      <td>2</td>\n",
       "      <td>LA</td>\n",
       "      <td>22</td>\n",
       "    </tr>\n",
       "  </tbody>\n",
       "</table>\n",
       "</div>"
      ],
      "text/plain": [
       "                                      0  index  BC  start_pos\n",
       "0  98 LH EATXIIIA WITHOUT AUTOSTICK\\nLH      0  LH          3\n",
       "1      95 BC EATXIIIA WITHOUT AUTOSTICK      1  BC          3\n",
       "2    2003 EATXIIIA WITHOUT LA AUTOSTICK      2  LA         22"
      ]
     },
     "execution_count": 22,
     "metadata": {},
     "output_type": "execute_result"
    }
   ],
   "source": [
    "# Print the df concatenated\n",
    "df_concatenated"
   ]
  },
  {
   "cell_type": "markdown",
   "id": "ea8f26f8",
   "metadata": {},
   "source": [
    "#### JOINING MULTIPLE BODY CODES AT THE SAME ROW"
   ]
  },
  {
   "cell_type": "code",
   "execution_count": 23,
   "id": "14a45a22",
   "metadata": {},
   "outputs": [],
   "source": [
    "body_code1 = 'LA'"
   ]
  },
  {
   "cell_type": "code",
   "execution_count": 24,
   "id": "62d6fc76",
   "metadata": {},
   "outputs": [],
   "source": [
    "body_code2 = 'BC'"
   ]
  },
  {
   "cell_type": "code",
   "execution_count": 25,
   "id": "f6be67d8",
   "metadata": {},
   "outputs": [],
   "source": [
    "# Join the above strings\n",
    "body_code = ', '.join([body_code1, body_code2])"
   ]
  },
  {
   "cell_type": "code",
   "execution_count": 26,
   "id": "d51f710f",
   "metadata": {},
   "outputs": [
    {
     "data": {
      "text/plain": [
       "'LA, BC'"
      ]
     },
     "execution_count": 26,
     "metadata": {},
     "output_type": "execute_result"
    }
   ],
   "source": [
    "# Print the strings joined\n",
    "body_code"
   ]
  },
  {
   "cell_type": "code",
   "execution_count": 27,
   "id": "711767b3",
   "metadata": {},
   "outputs": [],
   "source": [
    "# Data example\n",
    "data = {\n",
    "    'index': [14, 229, 229, 229, 230, 230],\n",
    "    'BC': ['LA', 'BC', 'A3', 'B1', 'B2', 'C1']\n",
    "    }"
   ]
  },
  {
   "cell_type": "code",
   "execution_count": 28,
   "id": "00c78e25",
   "metadata": {},
   "outputs": [],
   "source": [
    "# Convert to df\n",
    "df = pd.DataFrame(data)"
   ]
  },
  {
   "cell_type": "code",
   "execution_count": 29,
   "id": "c60c863f",
   "metadata": {},
   "outputs": [
    {
     "data": {
      "text/html": [
       "<div>\n",
       "<style scoped>\n",
       "    .dataframe tbody tr th:only-of-type {\n",
       "        vertical-align: middle;\n",
       "    }\n",
       "\n",
       "    .dataframe tbody tr th {\n",
       "        vertical-align: top;\n",
       "    }\n",
       "\n",
       "    .dataframe thead th {\n",
       "        text-align: right;\n",
       "    }\n",
       "</style>\n",
       "<table border=\"1\" class=\"dataframe\">\n",
       "  <thead>\n",
       "    <tr style=\"text-align: right;\">\n",
       "      <th></th>\n",
       "      <th>index</th>\n",
       "      <th>BC</th>\n",
       "    </tr>\n",
       "  </thead>\n",
       "  <tbody>\n",
       "    <tr>\n",
       "      <th>0</th>\n",
       "      <td>14</td>\n",
       "      <td>LA</td>\n",
       "    </tr>\n",
       "    <tr>\n",
       "      <th>1</th>\n",
       "      <td>229</td>\n",
       "      <td>BC</td>\n",
       "    </tr>\n",
       "    <tr>\n",
       "      <th>2</th>\n",
       "      <td>229</td>\n",
       "      <td>A3</td>\n",
       "    </tr>\n",
       "    <tr>\n",
       "      <th>3</th>\n",
       "      <td>229</td>\n",
       "      <td>B1</td>\n",
       "    </tr>\n",
       "    <tr>\n",
       "      <th>4</th>\n",
       "      <td>230</td>\n",
       "      <td>B2</td>\n",
       "    </tr>\n",
       "    <tr>\n",
       "      <th>5</th>\n",
       "      <td>230</td>\n",
       "      <td>C1</td>\n",
       "    </tr>\n",
       "  </tbody>\n",
       "</table>\n",
       "</div>"
      ],
      "text/plain": [
       "   index  BC\n",
       "0     14  LA\n",
       "1    229  BC\n",
       "2    229  A3\n",
       "3    229  B1\n",
       "4    230  B2\n",
       "5    230  C1"
      ]
     },
     "execution_count": 29,
     "metadata": {},
     "output_type": "execute_result"
    }
   ],
   "source": [
    "# Print the df\n",
    "df"
   ]
  },
  {
   "cell_type": "code",
   "execution_count": 30,
   "id": "8356e4b0",
   "metadata": {},
   "outputs": [
    {
     "data": {
      "text/html": [
       "<div>\n",
       "<style scoped>\n",
       "    .dataframe tbody tr th:only-of-type {\n",
       "        vertical-align: middle;\n",
       "    }\n",
       "\n",
       "    .dataframe tbody tr th {\n",
       "        vertical-align: top;\n",
       "    }\n",
       "\n",
       "    .dataframe thead th {\n",
       "        text-align: right;\n",
       "    }\n",
       "</style>\n",
       "<table border=\"1\" class=\"dataframe\">\n",
       "  <thead>\n",
       "    <tr style=\"text-align: right;\">\n",
       "      <th></th>\n",
       "      <th>index</th>\n",
       "      <th>BC</th>\n",
       "    </tr>\n",
       "  </thead>\n",
       "  <tbody>\n",
       "    <tr>\n",
       "      <th>0</th>\n",
       "      <td>14</td>\n",
       "      <td>LA</td>\n",
       "    </tr>\n",
       "    <tr>\n",
       "      <th>1</th>\n",
       "      <td>229</td>\n",
       "      <td>BC</td>\n",
       "    </tr>\n",
       "    <tr>\n",
       "      <th>2</th>\n",
       "      <td>229</td>\n",
       "      <td>A3</td>\n",
       "    </tr>\n",
       "    <tr>\n",
       "      <th>3</th>\n",
       "      <td>229</td>\n",
       "      <td>B1</td>\n",
       "    </tr>\n",
       "    <tr>\n",
       "      <th>4</th>\n",
       "      <td>230</td>\n",
       "      <td>B2</td>\n",
       "    </tr>\n",
       "    <tr>\n",
       "      <th>5</th>\n",
       "      <td>230</td>\n",
       "      <td>C1</td>\n",
       "    </tr>\n",
       "  </tbody>\n",
       "</table>\n",
       "</div>"
      ],
      "text/plain": [
       "   index  BC\n",
       "0     14  LA\n",
       "1    229  BC\n",
       "2    229  A3\n",
       "3    229  B1\n",
       "4    230  B2\n",
       "5    230  C1"
      ]
     },
     "execution_count": 30,
     "metadata": {},
     "output_type": "execute_result"
    }
   ],
   "source": [
    "# Print the df after checked marked\n",
    "df"
   ]
  },
  {
   "cell_type": "code",
   "execution_count": 31,
   "id": "852e0fc4",
   "metadata": {},
   "outputs": [
    {
     "data": {
      "text/html": [
       "<div>\n",
       "<style scoped>\n",
       "    .dataframe tbody tr th:only-of-type {\n",
       "        vertical-align: middle;\n",
       "    }\n",
       "\n",
       "    .dataframe tbody tr th {\n",
       "        vertical-align: top;\n",
       "    }\n",
       "\n",
       "    .dataframe thead th {\n",
       "        text-align: right;\n",
       "    }\n",
       "</style>\n",
       "<table border=\"1\" class=\"dataframe\">\n",
       "  <thead>\n",
       "    <tr style=\"text-align: right;\">\n",
       "      <th></th>\n",
       "      <th>BC</th>\n",
       "    </tr>\n",
       "    <tr>\n",
       "      <th>index</th>\n",
       "      <th></th>\n",
       "    </tr>\n",
       "  </thead>\n",
       "  <tbody>\n",
       "    <tr>\n",
       "      <th>14</th>\n",
       "      <td>[LA]</td>\n",
       "    </tr>\n",
       "    <tr>\n",
       "      <th>229</th>\n",
       "      <td>[BC, A3, B1]</td>\n",
       "    </tr>\n",
       "    <tr>\n",
       "      <th>230</th>\n",
       "      <td>[B2, C1]</td>\n",
       "    </tr>\n",
       "  </tbody>\n",
       "</table>\n",
       "</div>"
      ],
      "text/plain": [
       "                 BC\n",
       "index              \n",
       "14             [LA]\n",
       "229    [BC, A3, B1]\n",
       "230        [B2, C1]"
      ]
     },
     "execution_count": 31,
     "metadata": {},
     "output_type": "execute_result"
    }
   ],
   "source": [
    "# groupby method group data from the same column to one and agg method indicates the next data should be grouped from\n",
    "df.groupby(['index']).agg({'BC': list})"
   ]
  },
  {
   "cell_type": "markdown",
   "id": "e70151ed",
   "metadata": {},
   "source": [
    "#### Compare 2 lists and find matches "
   ]
  },
  {
   "cell_type": "code",
   "execution_count": 32,
   "id": "4917ceeb",
   "metadata": {},
   "outputs": [],
   "source": [
    "# Create a list with examples of bcs\n",
    "bc_list1 = ['A1', 'BC', 'B2', 'B1', '11']"
   ]
  },
  {
   "cell_type": "code",
   "execution_count": 33,
   "id": "b68197e9",
   "metadata": {},
   "outputs": [],
   "source": [
    "# Create a second list \n",
    "bc_list2 = ['BC', 'A1', 'B1', 'BA', '20']"
   ]
  },
  {
   "cell_type": "code",
   "execution_count": 34,
   "id": "b2d9206b",
   "metadata": {},
   "outputs": [],
   "source": [
    "# Create a list with items that are in both lists\n",
    "match_bc_list = []\n",
    "\n",
    "# Iterate under the first list\n",
    "for bc in bc_list1:\n",
    "    # Iterate under the 2nd lit\n",
    "    for bc1 in bc_list2:\n",
    "        # Condition to confirm whether the bcs match\n",
    "        if bc == bc1:\n",
    "            # Append the matched bcs\n",
    "            match_bc_list.append(bc)"
   ]
  },
  {
   "cell_type": "code",
   "execution_count": 35,
   "id": "5657a64a",
   "metadata": {},
   "outputs": [
    {
     "data": {
      "text/plain": [
       "['A1', 'BC', 'B1']"
      ]
     },
     "execution_count": 35,
     "metadata": {},
     "output_type": "execute_result"
    }
   ],
   "source": [
    "# Print the match list\n",
    "match_bc_list"
   ]
  },
  {
   "cell_type": "markdown",
   "id": "ea4ab87f",
   "metadata": {},
   "source": [
    "#### Test merge method to merge 2 different dfs with different sizes"
   ]
  },
  {
   "cell_type": "code",
   "execution_count": 36,
   "id": "3005ad86",
   "metadata": {},
   "outputs": [],
   "source": [
    "# Data example 1\n",
    "data1 = {\n",
    "    'index': [0, 1, 2, 3, 4],\n",
    "    'Year': ['A1', pd.NA, 'B2', pd.NA, '11']\n",
    "    }"
   ]
  },
  {
   "cell_type": "code",
   "execution_count": 37,
   "id": "73797f99",
   "metadata": {},
   "outputs": [],
   "source": [
    "# Data example 2\n",
    "data2 = {\n",
    "    'index': [1, 3],\n",
    "    'Year': ['BC, CB', 'B1']\n",
    "    }"
   ]
  },
  {
   "cell_type": "code",
   "execution_count": 38,
   "id": "c4223531",
   "metadata": {},
   "outputs": [],
   "source": [
    "# Convert both data examples to df\n",
    "df1 = pd.DataFrame(data1)\n",
    "df2 = pd.DataFrame(data2)"
   ]
  },
  {
   "cell_type": "code",
   "execution_count": 39,
   "id": "eca9a45c",
   "metadata": {},
   "outputs": [],
   "source": [
    "# Merge both dfs\n",
    "# on - is the column reference or the column which matches in both dfs\n",
    "# outer: use union of keys from both frames\n",
    "dfs_merged = df1.merge(df2, how='outer', on='index')"
   ]
  },
  {
   "cell_type": "code",
   "execution_count": 40,
   "id": "2e2941e6",
   "metadata": {},
   "outputs": [
    {
     "data": {
      "text/html": [
       "<div>\n",
       "<style scoped>\n",
       "    .dataframe tbody tr th:only-of-type {\n",
       "        vertical-align: middle;\n",
       "    }\n",
       "\n",
       "    .dataframe tbody tr th {\n",
       "        vertical-align: top;\n",
       "    }\n",
       "\n",
       "    .dataframe thead th {\n",
       "        text-align: right;\n",
       "    }\n",
       "</style>\n",
       "<table border=\"1\" class=\"dataframe\">\n",
       "  <thead>\n",
       "    <tr style=\"text-align: right;\">\n",
       "      <th></th>\n",
       "      <th>index</th>\n",
       "      <th>Year_x</th>\n",
       "      <th>Year_y</th>\n",
       "    </tr>\n",
       "  </thead>\n",
       "  <tbody>\n",
       "    <tr>\n",
       "      <th>0</th>\n",
       "      <td>0</td>\n",
       "      <td>A1</td>\n",
       "      <td>NaN</td>\n",
       "    </tr>\n",
       "    <tr>\n",
       "      <th>1</th>\n",
       "      <td>1</td>\n",
       "      <td>&lt;NA&gt;</td>\n",
       "      <td>BC, CB</td>\n",
       "    </tr>\n",
       "    <tr>\n",
       "      <th>2</th>\n",
       "      <td>2</td>\n",
       "      <td>B2</td>\n",
       "      <td>NaN</td>\n",
       "    </tr>\n",
       "    <tr>\n",
       "      <th>3</th>\n",
       "      <td>3</td>\n",
       "      <td>&lt;NA&gt;</td>\n",
       "      <td>B1</td>\n",
       "    </tr>\n",
       "    <tr>\n",
       "      <th>4</th>\n",
       "      <td>4</td>\n",
       "      <td>11</td>\n",
       "      <td>NaN</td>\n",
       "    </tr>\n",
       "  </tbody>\n",
       "</table>\n",
       "</div>"
      ],
      "text/plain": [
       "   index Year_x  Year_y\n",
       "0      0     A1     NaN\n",
       "1      1   <NA>  BC, CB\n",
       "2      2     B2     NaN\n",
       "3      3   <NA>      B1\n",
       "4      4     11     NaN"
      ]
     },
     "execution_count": 40,
     "metadata": {},
     "output_type": "execute_result"
    }
   ],
   "source": [
    "dfs_merged"
   ]
  },
  {
   "cell_type": "code",
   "execution_count": 41,
   "id": "005e3ccb",
   "metadata": {},
   "outputs": [],
   "source": [
    "dfs_merged['Year_x'] = dfs_merged['Year_x'].fillna(dfs_merged['Year_y'])"
   ]
  },
  {
   "cell_type": "code",
   "execution_count": 42,
   "id": "0872723e",
   "metadata": {},
   "outputs": [
    {
     "data": {
      "text/html": [
       "<div>\n",
       "<style scoped>\n",
       "    .dataframe tbody tr th:only-of-type {\n",
       "        vertical-align: middle;\n",
       "    }\n",
       "\n",
       "    .dataframe tbody tr th {\n",
       "        vertical-align: top;\n",
       "    }\n",
       "\n",
       "    .dataframe thead th {\n",
       "        text-align: right;\n",
       "    }\n",
       "</style>\n",
       "<table border=\"1\" class=\"dataframe\">\n",
       "  <thead>\n",
       "    <tr style=\"text-align: right;\">\n",
       "      <th></th>\n",
       "      <th>index</th>\n",
       "      <th>Year_x</th>\n",
       "      <th>Year_y</th>\n",
       "    </tr>\n",
       "  </thead>\n",
       "  <tbody>\n",
       "    <tr>\n",
       "      <th>0</th>\n",
       "      <td>0</td>\n",
       "      <td>A1</td>\n",
       "      <td>NaN</td>\n",
       "    </tr>\n",
       "    <tr>\n",
       "      <th>1</th>\n",
       "      <td>1</td>\n",
       "      <td>BC, CB</td>\n",
       "      <td>BC, CB</td>\n",
       "    </tr>\n",
       "    <tr>\n",
       "      <th>2</th>\n",
       "      <td>2</td>\n",
       "      <td>B2</td>\n",
       "      <td>NaN</td>\n",
       "    </tr>\n",
       "    <tr>\n",
       "      <th>3</th>\n",
       "      <td>3</td>\n",
       "      <td>B1</td>\n",
       "      <td>B1</td>\n",
       "    </tr>\n",
       "    <tr>\n",
       "      <th>4</th>\n",
       "      <td>4</td>\n",
       "      <td>11</td>\n",
       "      <td>NaN</td>\n",
       "    </tr>\n",
       "  </tbody>\n",
       "</table>\n",
       "</div>"
      ],
      "text/plain": [
       "   index  Year_x  Year_y\n",
       "0      0      A1     NaN\n",
       "1      1  BC, CB  BC, CB\n",
       "2      2      B2     NaN\n",
       "3      3      B1      B1\n",
       "4      4      11     NaN"
      ]
     },
     "execution_count": 42,
     "metadata": {},
     "output_type": "execute_result"
    }
   ],
   "source": [
    "dfs_merged"
   ]
  },
  {
   "cell_type": "markdown",
   "id": "f0b3e082",
   "metadata": {},
   "source": [
    "### TEST A REMOVE DUPES AND COMBINE DOUBLE CODES METHOD"
   ]
  },
  {
   "cell_type": "code",
   "execution_count": 108,
   "id": "f67b8672",
   "metadata": {},
   "outputs": [],
   "source": [
    "# Create a df for testing the method\n",
    "data = pd.DataFrame( \n",
    "    data=[['BC, B1, B1'], ['W2, WK, WK'], ['']],\n",
    "    index=[2002, 2011, 2012],\n",
    "    columns=['bc']\n",
    "    )"
   ]
  },
  {
   "cell_type": "code",
   "execution_count": 109,
   "id": "bc908c4b",
   "metadata": {},
   "outputs": [
    {
     "data": {
      "text/html": [
       "<div>\n",
       "<style scoped>\n",
       "    .dataframe tbody tr th:only-of-type {\n",
       "        vertical-align: middle;\n",
       "    }\n",
       "\n",
       "    .dataframe tbody tr th {\n",
       "        vertical-align: top;\n",
       "    }\n",
       "\n",
       "    .dataframe thead th {\n",
       "        text-align: right;\n",
       "    }\n",
       "</style>\n",
       "<table border=\"1\" class=\"dataframe\">\n",
       "  <thead>\n",
       "    <tr style=\"text-align: right;\">\n",
       "      <th></th>\n",
       "      <th>bc</th>\n",
       "    </tr>\n",
       "  </thead>\n",
       "  <tbody>\n",
       "    <tr>\n",
       "      <th>2002</th>\n",
       "      <td>BC, B1, B1</td>\n",
       "    </tr>\n",
       "    <tr>\n",
       "      <th>2011</th>\n",
       "      <td>W2, WK, WK</td>\n",
       "    </tr>\n",
       "    <tr>\n",
       "      <th>2012</th>\n",
       "      <td></td>\n",
       "    </tr>\n",
       "  </tbody>\n",
       "</table>\n",
       "</div>"
      ],
      "text/plain": [
       "              bc\n",
       "2002  BC, B1, B1\n",
       "2011  W2, WK, WK\n",
       "2012            "
      ]
     },
     "execution_count": 109,
     "metadata": {},
     "output_type": "execute_result"
    }
   ],
   "source": [
    "# Print the df\n",
    "data"
   ]
  },
  {
   "cell_type": "code",
   "execution_count": 110,
   "id": "3b900ccd",
   "metadata": {},
   "outputs": [],
   "source": [
    "# Body code pattern\n",
    "bc_pattern = r'[A-Z0-9]{2}'"
   ]
  },
  {
   "cell_type": "code",
   "execution_count": 111,
   "id": "bb6921d4",
   "metadata": {},
   "outputs": [],
   "source": [
    "# Create a list with unique body codes\n",
    "unique_bc_list = []\n",
    "\n",
    "# Iterate under column bc to get the string with the bcs\n",
    "for bc in data['bc']:\n",
    "    # Method findall find the matches based on the pattern\n",
    "    bc_matches = re.findall(bc_pattern, bc)\n",
    "    if bc != '':\n",
    "        bc_unique = list(set(bc_matches))\n",
    "        bc_out_of_list = ', '.join(bc_unique)\n",
    "        unique_bc_list.append(bc_out_of_list)\n",
    "    else:\n",
    "        unique_bc_list.append(bc)"
   ]
  },
  {
   "cell_type": "code",
   "execution_count": 112,
   "id": "6f4528c2",
   "metadata": {},
   "outputs": [
    {
     "data": {
      "text/plain": [
       "['B1, BC', 'WK, W2', '']"
      ]
     },
     "execution_count": 112,
     "metadata": {},
     "output_type": "execute_result"
    }
   ],
   "source": [
    "# Print the list\n",
    "unique_bc_list"
   ]
  },
  {
   "cell_type": "code",
   "execution_count": 113,
   "id": "2b07ee13",
   "metadata": {},
   "outputs": [],
   "source": [
    "# Update the df after removing the duplicated bcs\n",
    "data['bc'] = unique_bc_list  "
   ]
  },
  {
   "cell_type": "code",
   "execution_count": 114,
   "id": "67f64f4a",
   "metadata": {},
   "outputs": [
    {
     "data": {
      "text/html": [
       "<div>\n",
       "<style scoped>\n",
       "    .dataframe tbody tr th:only-of-type {\n",
       "        vertical-align: middle;\n",
       "    }\n",
       "\n",
       "    .dataframe tbody tr th {\n",
       "        vertical-align: top;\n",
       "    }\n",
       "\n",
       "    .dataframe thead th {\n",
       "        text-align: right;\n",
       "    }\n",
       "</style>\n",
       "<table border=\"1\" class=\"dataframe\">\n",
       "  <thead>\n",
       "    <tr style=\"text-align: right;\">\n",
       "      <th></th>\n",
       "      <th>bc</th>\n",
       "    </tr>\n",
       "  </thead>\n",
       "  <tbody>\n",
       "    <tr>\n",
       "      <th>2002</th>\n",
       "      <td>B1, BC</td>\n",
       "    </tr>\n",
       "    <tr>\n",
       "      <th>2011</th>\n",
       "      <td>WK, W2</td>\n",
       "    </tr>\n",
       "    <tr>\n",
       "      <th>2012</th>\n",
       "      <td></td>\n",
       "    </tr>\n",
       "  </tbody>\n",
       "</table>\n",
       "</div>"
      ],
      "text/plain": [
       "          bc\n",
       "2002  B1, BC\n",
       "2011  WK, W2\n",
       "2012        "
      ]
     },
     "execution_count": 114,
     "metadata": {},
     "output_type": "execute_result"
    }
   ],
   "source": [
    "# Print the updated df\n",
    "data"
   ]
  }
 ],
 "metadata": {
  "kernelspec": {
   "display_name": "venv",
   "language": "python",
   "name": "python3"
  },
  "language_info": {
   "codemirror_mode": {
    "name": "ipython",
    "version": 3
   },
   "file_extension": ".py",
   "mimetype": "text/x-python",
   "name": "python",
   "nbconvert_exporter": "python",
   "pygments_lexer": "ipython3",
   "version": "3.12.2"
  }
 },
 "nbformat": 4,
 "nbformat_minor": 5
}
